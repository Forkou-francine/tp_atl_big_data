{
  "nbformat": 4,
  "nbformat_minor": 0,
  "metadata": {
    "colab": {
      "provenance": [],
      "mount_file_id": "1iuSc502t2VZpj82JPqdxvFD1oDhprxSh",
      "authorship_tag": "ABX9TyPs2c09mIoH4I9GUd7lbavv",
      "include_colab_link": true
    },
    "kernelspec": {
      "name": "python3",
      "display_name": "Python 3"
    },
    "language_info": {
      "name": "python"
    }
  },
  "cells": [
    {
      "cell_type": "markdown",
      "metadata": {
        "id": "view-in-github",
        "colab_type": "text"
      },
      "source": [
        "<a href=\"https://colab.research.google.com/github/Forkou-francine/tp_atl_big_data/blob/main/Tp_notation_films.ipynb\" target=\"_parent\"><img src=\"https://colab.research.google.com/assets/colab-badge.svg\" alt=\"Open In Colab\"/></a>"
      ]
    },
    {
      "cell_type": "markdown",
      "source": [
        "# **TP: PySpark pour analyse de données de films.**\n",
        "\n",
        "**Objectif**: Utiliser PySpark pour manipuler un jeu de données sur les films, effectuer des transformations simples et réaliser des analyses"
      ],
      "metadata": {
        "id": "bNnrz-UGJgu-"
      }
    },
    {
      "cell_type": "markdown",
      "source": [
        "### **Travail réalisé par: Ange-Francine PENE FORKOU**\n"
      ],
      "metadata": {
        "id": "llyZno_OKAd4"
      }
    },
    {
      "cell_type": "markdown",
      "source": [
        "###**Étape 1: Prise en main - Préparation des données**\n",
        "1. Charger le fichier CSV contenant les données des films dans un DataFrame PySpark :"
      ],
      "metadata": {
        "id": "Mukq4ApwMlMH"
      }
    },
    {
      "cell_type": "code",
      "execution_count": 7,
      "metadata": {
        "id": "eTSUa38p-nZc"
      },
      "outputs": [],
      "source": [
        "#Import des librairies\n",
        "from pyspark.sql import SparkSession\n",
        "from pyspark.sql.functions import col, to_date, explode, split, avg\n",
        "\n",
        "#Instanciation d'une session spark\n",
        "spark = SparkSession.builder.appName('RottenTomatoesMovieAnalysis').getOrCreate()"
      ]
    },
    {
      "cell_type": "code",
      "source": [
        "# Chargement du fichier CSV\n",
        "file_path = \"Rotten_Tomatoes_Movies.csv\"\n",
        "\n",
        "#Création du dataFrame qui contiendra les données des films\n",
        "df_movies = spark.read.csv(file_path, header=True, inferSchema=True)\n",
        "\n",
        "# Afficher un aperçu des données\n",
        "print(f\"Nombre de films avant nettoyage : {df_movies.count()}\")\n",
        "# df_movies.show(5)"
      ],
      "metadata": {
        "colab": {
          "base_uri": "https://localhost:8080/"
        },
        "collapsed": true,
        "id": "K4l7XuCgLLEb",
        "outputId": "597e1ce0-9008-41dc-a9ea-7cbd590c7c72"
      },
      "execution_count": 23,
      "outputs": [
        {
          "output_type": "stream",
          "name": "stdout",
          "text": [
            "Nombre de films avant nettoyage : 16638\n"
          ]
        }
      ]
    },
    {
      "cell_type": "markdown",
      "source": [
        "2.   Nettoyer les données en supprimant les lignes vides ou invalides :\n",
        "\n",
        "\n",
        "*   Supprimer les lignes avec des valeurs nulles ou invalides"
      ],
      "metadata": {
        "id": "5GPq7p-KN7yC"
      }
    },
    {
      "cell_type": "code",
      "source": [
        "# Liste des colonnes importantes à conserver pour l'analyse\n",
        "\"\"\"\n",
        "  Les colonnes sont sélectionnées car elles contiennent des informations\n",
        "  critiques pour l'analyse comme les dates, les notes, et les noms des studios/réalisateurs.\n",
        "\"\"\"\n",
        "list_columns = [\"tomatometer_rating\", \"critics_consensus\", \"in_theaters_date\", \"on_streaming_date\", \"studio_name\", \"directors\"]\n",
        "\n",
        "# Suppression des lignes contenant des valeurs nulles dans les colonnes importantes\n",
        "df_movies_cleaned = df_movies.dropna(subset=list_columns)\n",
        "#df_movies_cleaned.show(10)"
      ],
      "metadata": {
        "collapsed": true,
        "id": "tpF696H8OQfO"
      },
      "execution_count": 9,
      "outputs": []
    },
    {
      "cell_type": "markdown",
      "source": [
        "\n",
        "\n",
        "3. Convertir les colonnes de dates au format \"yyyy-mm-dd\"\n"
      ],
      "metadata": {
        "id": "Z18xif4YJdqV"
      }
    },
    {
      "cell_type": "code",
      "source": [
        "# Conversion de la colonne \"in_theaters_date\"\n",
        "df_movies_cleaned = df_movies_cleaned.withColumn(\n",
        "    \"in_theaters_date\", to_date(col(\"in_theaters_date\"), \"yyyy-MM-dd\")\n",
        ")\n",
        "\n",
        "# Conversion de la colonne \"on_streaming_date\"\n",
        "df_movies_cleaned = df_movies_cleaned.withColumn(\n",
        "    \"on_streaming_date\", to_date(col(\"on_streaming_date\"), \"yyyy-MM-dd\")\n",
        ")\n",
        "print(f\"Nombre de films après nettoyage : {df_movies_cleaned.count()}\")\n",
        "\n",
        "# Vérifier si des colonnes importantes contiennent encore des valeurs nulles\n",
        "null_counts = df_movies_cleaned.select([col(c).isNull().cast(\"int\").alias(c) for c in list_columns]).groupBy().sum()\n",
        "null_counts.show()\n"
      ],
      "metadata": {
        "colab": {
          "base_uri": "https://localhost:8080/"
        },
        "id": "Y2fPu5HVJvoM",
        "outputId": "b88e2195-799f-4746-b024-db72160e1bfd"
      },
      "execution_count": 25,
      "outputs": [
        {
          "output_type": "stream",
          "name": "stdout",
          "text": [
            "Nombre de films après nettoyage : 9085\n",
            "+-----------------------+----------------------+---------------------+----------------------+----------------+--------------+\n",
            "|sum(tomatometer_rating)|sum(critics_consensus)|sum(in_theaters_date)|sum(on_streaming_date)|sum(studio_name)|sum(directors)|\n",
            "+-----------------------+----------------------+---------------------+----------------------+----------------+--------------+\n",
            "|                      0|                     0|                 3174|                  2819|               0|             0|\n",
            "+-----------------------+----------------------+---------------------+----------------------+----------------+--------------+\n",
            "\n"
          ]
        }
      ]
    },
    {
      "cell_type": "markdown",
      "source": [
        "### **Etape 2: Manipulation et analyse des données**\n",
        "1. Filtrage"
      ],
      "metadata": {
        "id": "lB7_CXHeUPc7"
      }
    },
    {
      "cell_type": "code",
      "source": [
        "# Les films avec une note très basse (tomatometer_rating < 20)\n",
        "\n",
        "\"\"\" Ces films peuvent être utilisés pour analyser les tendances des échecs critiques.\"\"\"\n",
        "df_movies_low_rating = df_movies_cleaned.filter(col(\"tomatometer_rating\") < 20)\n",
        "df_movies_low_rating.show(5)"
      ],
      "metadata": {
        "collapsed": true,
        "id": "wjavbe57_xcx"
      },
      "execution_count": 10,
      "outputs": []
    },
    {
      "cell_type": "code",
      "source": [
        "# Les films sortis (en cinema) après l'année 2000\n",
        "\n",
        "\"\"\" Cela permet de se concentrer sur les films récents et pertinents pour analyser\n",
        "les nouvelles tendances.\"\"\"\n",
        "df_movies_after_2000 = df_movies_cleaned.filter(col(\"in_theaters_date\") > \"2000-01-01\")\n",
        "df_movies_after_2000.show(5)"
      ],
      "metadata": {
        "collapsed": true,
        "id": "LtXWG9arCTVA"
      },
      "execution_count": 11,
      "outputs": []
    },
    {
      "cell_type": "markdown",
      "source": [
        "2. Moyennes"
      ],
      "metadata": {
        "id": "tQszJPFrWadK"
      }
    },
    {
      "cell_type": "code",
      "source": [
        "# La note moyenne des films par studio\n",
        "\n",
        "\"\"\" Cela permet d'identifier les studios avec les meilleures (ou les pires)\n",
        "performances en terme de critiques.\"\"\"\n",
        "df_avg_rating_studio = df_movies_cleaned.groupBy(\"studio_name\").agg(avg(\"tomatometer_rating\").alias(\"avg_rating\"))\n",
        "df_avg_rating_studio.show(5)"
      ],
      "metadata": {
        "colab": {
          "base_uri": "https://localhost:8080/"
        },
        "id": "Mp8ndSh_CWZR",
        "outputId": "4a64380a-426f-480b-a745-50c96a188ac3"
      },
      "execution_count": 20,
      "outputs": [
        {
          "output_type": "stream",
          "name": "stdout",
          "text": [
            "+--------------------+-----------------+\n",
            "|         studio_name|       avg_rating|\n",
            "+--------------------+-----------------+\n",
            "|    Relativity Media|33.32142857142857|\n",
            "|  New World Pictures|69.66666666666667|\n",
            "| and seeks out th...|             NULL|\n",
            "|       Nicholas Hope|             NULL|\n",
            "|Alluvial Film Com...|             92.0|\n",
            "+--------------------+-----------------+\n",
            "only showing top 5 rows\n",
            "\n"
          ]
        }
      ]
    },
    {
      "cell_type": "code",
      "source": [
        "# La moyenne des films par directeurs\n",
        "df_avg_rating_director = df_movies_cleaned.groupBy(\"directors\").agg(avg(\"tomatometer_rating\").alias(\"avg_rating\"))\n",
        "df_avg_rating_director.show(5)"
      ],
      "metadata": {
        "colab": {
          "base_uri": "https://localhost:8080/"
        },
        "id": "bSklv3qPXihj",
        "outputId": "bb46c69d-3d3a-498b-da0e-15f5776ccd53"
      },
      "execution_count": 13,
      "outputs": [
        {
          "output_type": "stream",
          "name": "stdout",
          "text": [
            "+--------------------+----------+\n",
            "|           directors|avg_rating|\n",
            "+--------------------+----------+\n",
            "|Comedy, Science F...|      NULL|\n",
            "|    Laurence Olivier|      91.0|\n",
            "|        Jim Jarmusch|    74.625|\n",
            "| more established...|      NULL|\n",
            "| \"\"Amreeka\"\" is a...|      NULL|\n",
            "+--------------------+----------+\n",
            "only showing top 5 rows\n",
            "\n"
          ]
        }
      ]
    },
    {
      "cell_type": "markdown",
      "source": [
        "### **Etape 3 : Utilisation de fonctions avancées**\n",
        "\n",
        "\n",
        "\n",
        "1.   Diviser les genres multiples d'une colone en genres individuels\n",
        "\n"
      ],
      "metadata": {
        "id": "QMhjrTyzZzf9"
      }
    },
    {
      "cell_type": "code",
      "source": [
        "# On divise les genres selon le séparateur (,)\n",
        "df_individual_genres = df_movies_cleaned.withColumn(\"genre\", explode(split(col(\"genre\"), \", \")))\n",
        "df_individual_genres.show(5)\n",
        "\n",
        "# On peut également compter les occurrences de chaque genre\n",
        "genre_counts = df_individual_genres.groupBy(\"genre\").count().orderBy(col(\"count\").desc())\n",
        "genre_counts.show()"
      ],
      "metadata": {
        "colab": {
          "base_uri": "https://localhost:8080/"
        },
        "id": "dcIxkMaOZzDz",
        "outputId": "220a2f9f-a4f1-43d6-e655-201c16e5156a"
      },
      "execution_count": 28,
      "outputs": [
        {
          "output_type": "stream",
          "name": "stdout",
          "text": [
            "+--------------------+--------------------+--------------------+------+--------------------+-----------------+-----------------+--------------------+----------------+-----------------+------------------+--------------------+------------------+------------------+-----------------+---------------+--------------+\n",
            "|         movie_title|          movie_info|   critics_consensus|rating|               genre|        directors|          writers|                cast|in_theaters_date|on_streaming_date|runtime_in_minutes|         studio_name|tomatometer_status|tomatometer_rating|tomatometer_count|audience_rating|audience_count|\n",
            "+--------------------+--------------------+--------------------+------+--------------------+-----------------+-----------------+--------------------+----------------+-----------------+------------------+--------------------+------------------+------------------+-----------------+---------------+--------------+\n",
            "|Percy Jackson & t...|A teenager discov...|Though it may see...|    PG|  Action & Adventure|   Chris Columbus|     Craig Titley|Logan Lerman, Bra...|      2010-02-12|       2010-06-29|                83|    20th Century Fox|            Rotten|                49|              144|             53|        254287|\n",
            "|Percy Jackson & t...|A teenager discov...|Though it may see...|    PG|              Comedy|   Chris Columbus|     Craig Titley|Logan Lerman, Bra...|      2010-02-12|       2010-06-29|                83|    20th Century Fox|            Rotten|                49|              144|             53|        254287|\n",
            "|Percy Jackson & t...|A teenager discov...|Though it may see...|    PG|               Drama|   Chris Columbus|     Craig Titley|Logan Lerman, Bra...|      2010-02-12|       2010-06-29|                83|    20th Century Fox|            Rotten|                49|              144|             53|        254287|\n",
            "|Percy Jackson & t...|A teenager discov...|Though it may see...|    PG|Science Fiction &...|   Chris Columbus|     Craig Titley|Logan Lerman, Bra...|      2010-02-12|       2010-06-29|                83|    20th Century Fox|            Rotten|                49|              144|             53|        254287|\n",
            "|         Please Give|Kate has a lot on...|Nicole Holofcener...|     R|              Comedy|Nicole Holofcener|Nicole Holofcener|Catherine Keener,...|      2010-04-30|       2010-10-19|                90|Sony Pictures Cla...|   Certified Fresh|                86|              140|             64|         11567|\n",
            "+--------------------+--------------------+--------------------+------+--------------------+-----------------+-----------------+--------------------+----------------+-----------------+------------------+--------------------+------------------+------------------+-----------------+---------------+--------------+\n",
            "only showing top 5 rows\n",
            "\n",
            "+--------------------+-----+\n",
            "|               genre|count|\n",
            "+--------------------+-----+\n",
            "|         and Scamper|    1|\n",
            "|Chi-Raq is as urg...|    1|\n",
            "| made partly out ...|    1|\n",
            "| the Michigan Mil...|    1|\n",
            "| take on new lust...|    1|\n",
            "| and a beautiful ...|    1|\n",
            "| foolhardy docume...|    1|\n",
            "| Simon and Theodo...|    1|\n",
            "| but their voyage...|    1|\n",
            "| and the makeup b...|    1|\n",
            "| who as Lt. Colon...|    1|\n",
            "|Return to Oz taps...|    1|\n",
            "| Hide and Seek. T...|    1|\n",
            "|Though somewhat u...|    1|\n",
            "| as well as possi...|    1|\n",
            "+--------------------+-----+\n",
            "only showing top 15 rows\n",
            "\n",
            "+--------------------+-----+\n",
            "|               genre|count|\n",
            "+--------------------+-----+\n",
            "|               Drama| 3567|\n",
            "|              Comedy| 2096|\n",
            "|  Action & Adventure| 1396|\n",
            "|  Mystery & Suspense| 1347|\n",
            "|Art House & Inter...|  844|\n",
            "|Science Fiction &...|  764|\n",
            "|             Romance|  724|\n",
            "|              Horror|  695|\n",
            "|         Documentary|  457|\n",
            "|       Kids & Family|  447|\n",
            "|    Special Interest|  324|\n",
            "|Musical & Perform...|  263|\n",
            "|           Animation|  253|\n",
            "|            Classics|  243|\n",
            "|                   R|  120|\n",
            "|                  NR|  107|\n",
            "|             Western|   67|\n",
            "|                  PG|   58|\n",
            "|               PG-13|   55|\n",
            "|    Sports & Fitness|   53|\n",
            "+--------------------+-----+\n",
            "only showing top 20 rows\n",
            "\n"
          ]
        }
      ]
    },
    {
      "cell_type": "markdown",
      "source": [
        "2. Calculer la durée moyennes des films pour chaque genre"
      ],
      "metadata": {
        "id": "VR1jATBIbsbJ"
      }
    },
    {
      "cell_type": "code",
      "source": [
        "df_avg_duration_genre = df_movies_cleaned.groupBy(\"genre\").agg(avg(\"runtime_in_minutes\").alias(\"avg_duration\"))\n",
        "df_avg_duration_genre.show(15)"
      ],
      "metadata": {
        "colab": {
          "base_uri": "https://localhost:8080/"
        },
        "id": "OWO3XlfvEIJY",
        "outputId": "f3e6ff87-34e9-4845-88e4-33fa9ddc71d8"
      },
      "execution_count": 17,
      "outputs": [
        {
          "output_type": "stream",
          "name": "stdout",
          "text": [
            "+--------------------+------------------+\n",
            "|               genre|      avg_duration|\n",
            "+--------------------+------------------+\n",
            "|         and Scamper|              NULL|\n",
            "|Comedy, Science F...|              96.9|\n",
            "|Comedy, Drama, Te...|             102.5|\n",
            "| made partly out ...|              NULL|\n",
            "| the Michigan Mil...|              NULL|\n",
            "| take on new lust...|              NULL|\n",
            "| and a beautiful ...|              NULL|\n",
            "|Action & Adventur...|103.66666666666667|\n",
            "| foolhardy docume...|              NULL|\n",
            "|Action & Adventur...|103.76666666666667|\n",
            "| Simon and Theodo...|              NULL|\n",
            "|Animation, Art Ho...|              65.0|\n",
            "|   Drama, Television|             112.2|\n",
            "|Drama, Western, R...|137.66666666666666|\n",
            "|Da Sweet Blood of...|              NULL|\n",
            "+--------------------+------------------+\n",
            "only showing top 15 rows\n",
            "\n"
          ]
        }
      ]
    },
    {
      "cell_type": "markdown",
      "source": [
        "On peut également calculer la corrélation pour observer si les films avec une durée plus longue obtiennent de meilleures notes"
      ],
      "metadata": {
        "id": "GlM7qTiBIBzT"
      }
    },
    {
      "cell_type": "code",
      "source": [
        "df_correlation = df_movies_cleaned.select(\n",
        "    col(\"runtime_in_minutes\").cast(\"double\"),\n",
        "    col(\"tomatometer_rating\").cast(\"double\")\n",
        ")\n",
        "\n",
        "df_correlation.corr(\"runtime_in_minutes\", \"tomatometer_rating\")\n"
      ],
      "metadata": {
        "colab": {
          "base_uri": "https://localhost:8080/"
        },
        "id": "E-wbYIVJOFkX",
        "outputId": "1f1a8e71-66a8-4396-fd28-eb1da754628c"
      },
      "execution_count": 30,
      "outputs": [
        {
          "output_type": "execute_result",
          "data": {
            "text/plain": [
              "0.6968612216450497"
            ]
          },
          "metadata": {},
          "execution_count": 30
        }
      ]
    },
    {
      "cell_type": "markdown",
      "source": [
        "On obtient une corrélation de 0.6968612216450497 entre \"runtime_in_minutes\" (la durée du film) et \"tomatometer_rating\" (note du critique critique)qui est modérément forte et positive. Cela signifie que lorsque la durée du film augmente, la note critique tend à augmenter aussi, mais ce n'est pas une règle absolue."
      ],
      "metadata": {
        "id": "0b-Mx6GVOyev"
      }
    }
  ]
}